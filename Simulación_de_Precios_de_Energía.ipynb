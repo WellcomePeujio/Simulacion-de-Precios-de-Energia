{
  "nbformat": 4,
  "nbformat_minor": 0,
  "metadata": {
    "colab": {
      "private_outputs": true,
      "provenance": [],
      "authorship_tag": "ABX9TyMszK32/GS7lN4uPROE2E0U",
      "include_colab_link": true
    },
    "kernelspec": {
      "name": "python3",
      "display_name": "Python 3"
    },
    "language_info": {
      "name": "python"
    }
  },
  "cells": [
    {
      "cell_type": "markdown",
      "metadata": {
        "id": "view-in-github",
        "colab_type": "text"
      },
      "source": [
        "<a href=\"https://colab.research.google.com/github/WellcomePeujio/Simulacion-de-Precios-de-Energia/blob/main/Simulaci%C3%B3n_de_Precios_de_Energ%C3%ADa.ipynb\" target=\"_parent\"><img src=\"https://colab.research.google.com/assets/colab-badge.svg\" alt=\"Open In Colab\"/></a>"
      ]
    },
    {
      "cell_type": "markdown",
      "source": [
        "# Simulación de Precios de Energía\n",
        "\n",
        "**Título**: \"¿Cómo fluctuarán tus costos de energía este año?\"\n",
        "\n",
        "**Problema**: El precio diario de la energía sigue la siguiente función:\n",
        "\n",
        "$$\n",
        "P(t) = 50 + 5 \\sin \\left( \\frac{2\\pi t}{365} \\right) + \\epsilon\n",
        "$$\n",
        "\n",
        "Donde:\n",
        "- $P(t)$ es el precio diario de la energía.\n",
        "- $t$ representa el día del año ($1 \\leq t \\leq 365$).\n",
        "- $\\epsilon$ es un término aleatorio con media 0 y desviación estándar 3.\n",
        "\n",
        "**Preguntas**:\n",
        "\n",
        "1. Simula los precios diarios durante 1 año.\n",
        "2. Calcula el promedio y el rango de precios esperados.\n",
        "3. Genera un gráfico que muestre la simulación de los precios diarios.\n"
      ],
      "metadata": {
        "id": "TI7rvRK5TArx"
      }
    },
    {
      "cell_type": "markdown",
      "source": [
        "# Resolución de la Simulación de Precios de Energía\n",
        "\n",
        "## Paso 1: Definición de la Función de Precio\n",
        "\n",
        "El precio diario de la energía se modela como:\n",
        "\n",
        "$$\n",
        "P(t) = 50 + 5 \\sin \\left( \\frac{2\\pi t}{365} \\right) + \\epsilon\n",
        "$$\n",
        "\n",
        "Donde:\n",
        "- $P(t)$ es el precio de la energía en el día $t$.\n",
        "- $50$ representa el precio base de la energía.\n",
        "- $5 \\sin \\left( \\frac{2\\pi t}{365} \\right)$ modela la variación estacional a lo largo del año.\n",
        "- $\\epsilon$ es un término aleatorio con media $0$ y desviación estándar $3$, lo que introduce volatilidad en los precios diarios.\n",
        "\n",
        "---\n",
        "\n",
        "## Paso 2: Cálculo del Promedio y Rango de Precios\n",
        "\n",
        "1. **Promedio Esperado:**\n",
        "   \n",
        "   La esperanza matemática del precio es:\n",
        "\n",
        "   $$\n",
        "   E[P(t)] = E\\left[ 50 + 5 \\sin \\left( \\frac{2\\pi t}{365} \\right) + \\epsilon \\right]\n",
        "   $$\n",
        "\n",
        "   Dado que $E[\\sin(\\cdot)] = 0$ y $E[\\epsilon] = 0$, obtenemos:\n",
        "\n",
        "   $$\n",
        "   E[P(t)] = 50\n",
        "   $$\n",
        "\n",
        "   Por lo tanto, el precio promedio esperado es **50 unidades monetarias**.\n",
        "\n",
        "2. **Varianza y Desviación Estándar:**\n",
        "\n",
        "   La varianza de $P(t)$ es:\n",
        "\n",
        "   $$\n",
        "   \\text{Var}[P(t)] = \\text{Var}[\\epsilon] = 3^2 = 9\n",
        "   $$\n",
        "\n",
        "   Y la desviación estándar es:\n",
        "\n",
        "   $$\n",
        "   \\sigma_{P(t)} = \\sqrt{9} = 3\n",
        "   $$\n",
        "\n",
        "3. **Rango Aproximado de Precios:**\n",
        "\n",
        "   El rango esperado de precios se estima considerando el efecto de la variación estacional y la dispersión de $\\epsilon$:\n",
        "\n",
        "   - **Mínimo:**\n",
        "\n",
        "     $$\n",
        "     P_{\\min} = 50 - 5 - 3 = 42\n",
        "     $$\n",
        "\n",
        "   - **Máximo:**\n",
        "\n",
        "     $$\n",
        "     P_{\\max} = 50 + 5 + 3 = 58\n",
        "     $$\n",
        "\n",
        "   Así, los precios esperados fluctuarán aproximadamente entre **42 y 58 unidades monetarias** a lo largo del año.\n",
        "\n",
        "---\n",
        "\n",
        "## Paso 3: Interpretación de Resultados\n",
        "\n",
        "1. **El precio medio esperado es de 50 unidades.**\n",
        "2. **Las fluctuaciones estacionales causan oscilaciones de ±5 unidades.**\n",
        "3. **La volatilidad introduce una dispersión adicional de ±3 unidades.**\n",
        "4. **El rango total esperado de precios está entre 42 y 58 unidades.**\n",
        "\n",
        "Estos resultados permiten prever variaciones en los costos de energía y analizar patrones de comportamiento a lo largo del año.\n"
      ],
      "metadata": {
        "id": "UvG2ggpwTEex"
      }
    },
    {
      "cell_type": "code",
      "source": [
        "import numpy as np\n",
        "import matplotlib.pyplot as plt\n",
        "\n",
        "# Parámetros del modelo\n",
        "dias = np.arange(1, 366)  # Días del año\n",
        "precio_base = 50\n",
        "amplitud = 5\n",
        "desviacion = 3\n",
        "\n",
        "# Generar precios simulados\n",
        "np.random.seed(42)  # Fijar semilla para reproducibilidad\n",
        "ruido = np.random.normal(0, desviacion, len(dias))\n",
        "precios = precio_base + amplitud * np.sin(2 * np.pi * dias / 365) + ruido\n",
        "\n",
        "# Calcular estadísticas\n",
        "precio_promedio = np.mean(precios)\n",
        "precio_minimo = np.min(precios)\n",
        "precio_maximo = np.max(precios)\n",
        "\n",
        "# Graficar evolución de los precios diarios\n",
        "plt.figure(figsize=(12, 6))\n",
        "plt.plot(dias, precios, label=\"Precio Simulado\", color=\"blue\")\n",
        "plt.axhline(precio_promedio, color=\"red\", linestyle=\"--\", label=f\"Promedio: {precio_promedio:.2f}\")\n",
        "plt.axhline(precio_minimo, color=\"green\", linestyle=\"--\", label=f\"Mínimo: {precio_minimo:.2f}\")\n",
        "plt.axhline(precio_maximo, color=\"purple\", linestyle=\"--\", label=f\"Máximo: {precio_maximo:.2f}\")\n",
        "plt.xlabel(\"Días del Año\")\n",
        "plt.ylabel(\"Precio de Energía\")\n",
        "plt.title(\"Simulación de Precios de Energía a lo Largo del Año\")\n",
        "plt.legend()\n",
        "plt.grid(True)\n",
        "plt.show()\n"
      ],
      "metadata": {
        "id": "fnbEyclgTac2"
      },
      "execution_count": null,
      "outputs": []
    }
  ]
}